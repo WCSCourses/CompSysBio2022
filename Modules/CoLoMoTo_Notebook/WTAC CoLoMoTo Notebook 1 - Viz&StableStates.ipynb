{
 "cells": [
  {
   "cell_type": "markdown",
   "id": "skilled-retreat",
   "metadata": {},
   "source": [
    "## Visualising the regulatory graph (LRG)"
   ]
  },
  {
   "cell_type": "code",
   "execution_count": 3,
   "id": "federal-breeding",
   "metadata": {},
   "outputs": [
    {
     "data": {
      "text/markdown": [
       "This notebook has been executed using the docker image `colomoto/colomoto-docker:2021-10-01`"
      ],
      "text/plain": [
       "<IPython.core.display.Markdown object>"
      ]
     },
     "metadata": {},
     "output_type": "display_data"
    }
   ],
   "source": [
    "import ginsim"
   ]
  },
  {
   "cell_type": "markdown",
   "id": "moved-postcard",
   "metadata": {},
   "source": [
    "Load the Th model"
   ]
  },
  {
   "cell_type": "code",
   "execution_count": 4,
   "id": "saving-barcelona",
   "metadata": {},
   "outputs": [
    {
     "data": {
      "text/markdown": [
       "Downloading http://ginsim.org/sites/default/files/Th_17.zginml"
      ],
      "text/plain": [
       "<IPython.core.display.Markdown object>"
      ]
     },
     "metadata": {},
     "output_type": "display_data"
    },
    {
     "name": "stderr",
     "output_type": "stream",
     "text": [
      "Do not forget attaching \"Th_17.zginml\" file with your notebook\n"
     ]
    },
    {
     "data": {
      "text/html": [
       "Using local file <a href='Th_17.zginml' target='_blank'>Th_17.zginml</a><br>"
      ],
      "text/plain": [
       "/notebook/Th_17.zginml"
      ]
     },
     "metadata": {},
     "output_type": "display_data"
    }
   ],
   "source": [
    "# We'll use the old/simpler/faster one: http://ginsim.org/sites/default/files/Th_17.zginml\n",
    "# load() accepts either a local or a remote file\n",
    "lrg = ginsim.load(\"http://ginsim.org/sites/default/files/Th_17.zginml\")"
   ]
  },
  {
   "cell_type": "markdown",
   "id": "suspended-source",
   "metadata": {},
   "source": [
    "Display the regulatory graph, as defined in GINsim."
   ]
  },
  {
   "cell_type": "code",
   "execution_count": 5,
   "id": "related-moderator",
   "metadata": {},
   "outputs": [
    {
     "data": {
      "text/html": [
       "<img class=\"unconfined\" width=\"603px\" src=\"data:image/svg+xml;base64,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\">"
      ],
      "text/plain": [
       "<IPython.core.display.HTML object>"
      ]
     },
     "execution_count": 5,
     "metadata": {},
     "output_type": "execute_result"
    }
   ],
   "source": [
    "# node convention: oval -> Boolean, rectangle -> multivalued\n",
    "ginsim.show(lrg)"
   ]
  },
  {
   "cell_type": "markdown",
   "id": "olive-harmony",
   "metadata": {},
   "source": [
    "### Computing stable states using bioLQM"
   ]
  },
  {
   "cell_type": "code",
   "execution_count": 6,
   "id": "secondary-christmas",
   "metadata": {},
   "outputs": [],
   "source": [
    "import biolqm"
   ]
  },
  {
   "cell_type": "markdown",
   "id": "victorian-norman",
   "metadata": {},
   "source": [
    "bioLQM documentation: http://colomoto.org/biolqm/"
   ]
  },
  {
   "cell_type": "code",
   "execution_count": 7,
   "id": "expressed-portfolio",
   "metadata": {},
   "outputs": [],
   "source": [
    "### Convert the ginsim model to biolqm\n",
    "lqm = ginsim.to_biolqm(lrg)"
   ]
  },
  {
   "cell_type": "code",
   "execution_count": 8,
   "id": "ranging-ground",
   "metadata": {},
   "outputs": [],
   "source": [
    "### Compute the stable states\n",
    "fps_lqm = biolqm.fixpoints(lqm)"
   ]
  },
  {
   "cell_type": "code",
   "execution_count": 9,
   "id": "extensive-dress",
   "metadata": {},
   "outputs": [
    {
     "data": {
      "text/html": [
       "<div>\n",
       "<style scoped>\n",
       "    .dataframe tbody tr th:only-of-type {\n",
       "        vertical-align: middle;\n",
       "    }\n",
       "\n",
       "    .dataframe tbody tr th {\n",
       "        vertical-align: top;\n",
       "    }\n",
       "\n",
       "    .dataframe thead th {\n",
       "        text-align: right;\n",
       "    }\n",
       "</style>\n",
       "<table border=\"1\" class=\"dataframe\">\n",
       "  <thead>\n",
       "    <tr style=\"text-align: right;\">\n",
       "      <th></th>\n",
       "      <th>IFNg</th>\n",
       "      <th>IFNgR</th>\n",
       "      <th>STAT1</th>\n",
       "      <th>Tbet</th>\n",
       "      <th>SOCS1</th>\n",
       "      <th>IFNb</th>\n",
       "      <th>IFNbR</th>\n",
       "      <th>IL18</th>\n",
       "      <th>IL18R</th>\n",
       "      <th>IRAK</th>\n",
       "      <th>IL12</th>\n",
       "      <th>IL12R</th>\n",
       "      <th>STAT4</th>\n",
       "      <th>IL4</th>\n",
       "      <th>IL4R</th>\n",
       "      <th>STAT6</th>\n",
       "      <th>GATA3</th>\n",
       "    </tr>\n",
       "  </thead>\n",
       "  <tbody>\n",
       "    <tr>\n",
       "      <th>0</th>\n",
       "      <td>0</td>\n",
       "      <td>0</td>\n",
       "      <td>0</td>\n",
       "      <td>0</td>\n",
       "      <td>0</td>\n",
       "      <td>0</td>\n",
       "      <td>0</td>\n",
       "      <td>0</td>\n",
       "      <td>0</td>\n",
       "      <td>0</td>\n",
       "      <td>0</td>\n",
       "      <td>0</td>\n",
       "      <td>0</td>\n",
       "      <td>0</td>\n",
       "      <td>0</td>\n",
       "      <td>0</td>\n",
       "      <td>0</td>\n",
       "    </tr>\n",
       "    <tr>\n",
       "      <th>1</th>\n",
       "      <td>0</td>\n",
       "      <td>0</td>\n",
       "      <td>0</td>\n",
       "      <td>0</td>\n",
       "      <td>0</td>\n",
       "      <td>0</td>\n",
       "      <td>0</td>\n",
       "      <td>0</td>\n",
       "      <td>0</td>\n",
       "      <td>0</td>\n",
       "      <td>0</td>\n",
       "      <td>0</td>\n",
       "      <td>0</td>\n",
       "      <td>1</td>\n",
       "      <td>1</td>\n",
       "      <td>1</td>\n",
       "      <td>1</td>\n",
       "    </tr>\n",
       "    <tr>\n",
       "      <th>2</th>\n",
       "      <td>1</td>\n",
       "      <td>1</td>\n",
       "      <td>1</td>\n",
       "      <td>1</td>\n",
       "      <td>1</td>\n",
       "      <td>0</td>\n",
       "      <td>0</td>\n",
       "      <td>0</td>\n",
       "      <td>0</td>\n",
       "      <td>0</td>\n",
       "      <td>0</td>\n",
       "      <td>0</td>\n",
       "      <td>0</td>\n",
       "      <td>0</td>\n",
       "      <td>0</td>\n",
       "      <td>0</td>\n",
       "      <td>0</td>\n",
       "    </tr>\n",
       "    <tr>\n",
       "      <th>3</th>\n",
       "      <td>2</td>\n",
       "      <td>1</td>\n",
       "      <td>1</td>\n",
       "      <td>2</td>\n",
       "      <td>1</td>\n",
       "      <td>0</td>\n",
       "      <td>0</td>\n",
       "      <td>0</td>\n",
       "      <td>0</td>\n",
       "      <td>0</td>\n",
       "      <td>0</td>\n",
       "      <td>0</td>\n",
       "      <td>0</td>\n",
       "      <td>0</td>\n",
       "      <td>0</td>\n",
       "      <td>0</td>\n",
       "      <td>0</td>\n",
       "    </tr>\n",
       "  </tbody>\n",
       "</table>\n",
       "</div>"
      ],
      "text/plain": [
       "   IFNg  IFNgR  STAT1  Tbet  SOCS1  IFNb  IFNbR  IL18  IL18R  IRAK  IL12  \\\n",
       "0     0      0      0     0      0     0      0     0      0     0     0   \n",
       "1     0      0      0     0      0     0      0     0      0     0     0   \n",
       "2     1      1      1     1      1     0      0     0      0     0     0   \n",
       "3     2      1      1     2      1     0      0     0      0     0     0   \n",
       "\n",
       "   IL12R  STAT4  IL4  IL4R  STAT6  GATA3  \n",
       "0      0      0    0     0      0      0  \n",
       "1      0      0    1     1      1      1  \n",
       "2      0      0    0     0      0      0  \n",
       "3      0      0    0     0      0      0  "
      ]
     },
     "execution_count": 9,
     "metadata": {},
     "output_type": "execute_result"
    }
   ],
   "source": [
    "from colomoto_jupyter import tabulate\n",
    "### Display the list of stable states\n",
    "tabulate(fps_lqm)"
   ]
  },
  {
   "cell_type": "code",
   "execution_count": 10,
   "id": "northern-advertising",
   "metadata": {},
   "outputs": [
    {
     "data": {
      "text/html": [
       "<img class=\"unconfined\" width=\"603px\" src=\"data:image/svg+xml;base64,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\">"
      ],
      "text/plain": [
       "<IPython.core.display.HTML object>"
      ]
     },
     "execution_count": 10,
     "metadata": {},
     "output_type": "execute_result"
    }
   ],
   "source": [
    "### Show an overlay of state values (of a given stable state) on the LRG\n",
    "ginsim.show(lrg, fps_lqm[3])"
   ]
  },
  {
   "cell_type": "markdown",
   "id": "instrumental-pepper",
   "metadata": {},
   "source": [
    "### Computing stable states using Pint"
   ]
  },
  {
   "cell_type": "code",
   "execution_count": 11,
   "id": "thirty-october",
   "metadata": {},
   "outputs": [],
   "source": [
    "import pypint"
   ]
  },
  {
   "cell_type": "code",
   "execution_count": 12,
   "id": "preliminary-communist",
   "metadata": {},
   "outputs": [],
   "source": [
    "### Convert the biolqm model to a pint model\n",
    "ppm = biolqm.to_pint(lqm)"
   ]
  },
  {
   "cell_type": "code",
   "execution_count": 13,
   "id": "meaningful-dining",
   "metadata": {},
   "outputs": [],
   "source": [
    "### Now compute the stable states using pint\n",
    "ppm_fps = pypint.fixpoints(ppm)"
   ]
  },
  {
   "cell_type": "code",
   "execution_count": 14,
   "id": "golden-mobility",
   "metadata": {},
   "outputs": [
    {
     "data": {
      "text/html": [
       "<div>\n",
       "<style scoped>\n",
       "    .dataframe tbody tr th:only-of-type {\n",
       "        vertical-align: middle;\n",
       "    }\n",
       "\n",
       "    .dataframe tbody tr th {\n",
       "        vertical-align: top;\n",
       "    }\n",
       "\n",
       "    .dataframe thead th {\n",
       "        text-align: right;\n",
       "    }\n",
       "</style>\n",
       "<table border=\"1\" class=\"dataframe\">\n",
       "  <thead>\n",
       "    <tr style=\"text-align: right;\">\n",
       "      <th></th>\n",
       "      <th>IFNg</th>\n",
       "      <th>IFNgR</th>\n",
       "      <th>STAT1</th>\n",
       "      <th>Tbet</th>\n",
       "      <th>SOCS1</th>\n",
       "      <th>IFNb</th>\n",
       "      <th>IFNbR</th>\n",
       "      <th>IL18</th>\n",
       "      <th>IL18R</th>\n",
       "      <th>IRAK</th>\n",
       "      <th>IL12</th>\n",
       "      <th>IL12R</th>\n",
       "      <th>STAT4</th>\n",
       "      <th>IL4</th>\n",
       "      <th>IL4R</th>\n",
       "      <th>STAT6</th>\n",
       "      <th>GATA3</th>\n",
       "    </tr>\n",
       "  </thead>\n",
       "  <tbody>\n",
       "    <tr>\n",
       "      <th>0</th>\n",
       "      <td>0</td>\n",
       "      <td>0</td>\n",
       "      <td>0</td>\n",
       "      <td>0</td>\n",
       "      <td>0</td>\n",
       "      <td>0</td>\n",
       "      <td>0</td>\n",
       "      <td>0</td>\n",
       "      <td>0</td>\n",
       "      <td>0</td>\n",
       "      <td>0</td>\n",
       "      <td>0</td>\n",
       "      <td>0</td>\n",
       "      <td>0</td>\n",
       "      <td>0</td>\n",
       "      <td>0</td>\n",
       "      <td>0</td>\n",
       "    </tr>\n",
       "    <tr>\n",
       "      <th>1</th>\n",
       "      <td>0</td>\n",
       "      <td>0</td>\n",
       "      <td>0</td>\n",
       "      <td>0</td>\n",
       "      <td>0</td>\n",
       "      <td>0</td>\n",
       "      <td>0</td>\n",
       "      <td>0</td>\n",
       "      <td>0</td>\n",
       "      <td>0</td>\n",
       "      <td>0</td>\n",
       "      <td>0</td>\n",
       "      <td>0</td>\n",
       "      <td>1</td>\n",
       "      <td>1</td>\n",
       "      <td>1</td>\n",
       "      <td>1</td>\n",
       "    </tr>\n",
       "    <tr>\n",
       "      <th>2</th>\n",
       "      <td>1</td>\n",
       "      <td>1</td>\n",
       "      <td>1</td>\n",
       "      <td>1</td>\n",
       "      <td>1</td>\n",
       "      <td>0</td>\n",
       "      <td>0</td>\n",
       "      <td>0</td>\n",
       "      <td>0</td>\n",
       "      <td>0</td>\n",
       "      <td>0</td>\n",
       "      <td>0</td>\n",
       "      <td>0</td>\n",
       "      <td>0</td>\n",
       "      <td>0</td>\n",
       "      <td>0</td>\n",
       "      <td>0</td>\n",
       "    </tr>\n",
       "    <tr>\n",
       "      <th>3</th>\n",
       "      <td>2</td>\n",
       "      <td>1</td>\n",
       "      <td>1</td>\n",
       "      <td>2</td>\n",
       "      <td>1</td>\n",
       "      <td>0</td>\n",
       "      <td>0</td>\n",
       "      <td>0</td>\n",
       "      <td>0</td>\n",
       "      <td>0</td>\n",
       "      <td>0</td>\n",
       "      <td>0</td>\n",
       "      <td>0</td>\n",
       "      <td>0</td>\n",
       "      <td>0</td>\n",
       "      <td>0</td>\n",
       "      <td>0</td>\n",
       "    </tr>\n",
       "  </tbody>\n",
       "</table>\n",
       "</div>"
      ],
      "text/plain": [
       "   IFNg  IFNgR  STAT1  Tbet  SOCS1  IFNb  IFNbR  IL18  IL18R  IRAK  IL12  \\\n",
       "0     0      0      0     0      0     0      0     0      0     0     0   \n",
       "1     0      0      0     0      0     0      0     0      0     0     0   \n",
       "2     1      1      1     1      1     0      0     0      0     0     0   \n",
       "3     2      1      1     2      1     0      0     0      0     0     0   \n",
       "\n",
       "   IL12R  STAT4  IL4  IL4R  STAT6  GATA3  \n",
       "0      0      0    0     0      0      0  \n",
       "1      0      0    1     1      1      1  \n",
       "2      0      0    0     0      0      0  \n",
       "3      0      0    0     0      0      0  "
      ]
     },
     "execution_count": 14,
     "metadata": {},
     "output_type": "execute_result"
    }
   ],
   "source": [
    "### Display the list of stable states\n",
    "tabulate(ppm_fps)"
   ]
  },
  {
   "cell_type": "code",
   "execution_count": 15,
   "id": "peripheral-melissa",
   "metadata": {},
   "outputs": [
    {
     "data": {
      "text/html": [
       "<img class=\"unconfined\" width=\"603px\" src=\"data:image/svg+xml;base64,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\">"
      ],
      "text/plain": [
       "<IPython.core.display.HTML object>"
      ]
     },
     "execution_count": 15,
     "metadata": {},
     "output_type": "execute_result"
    }
   ],
   "source": [
    "### Using GINsim & the new stable state list, show an overlay of state values (of a given stable state) on the LRG\n",
    "ginsim.show(lrg, ppm_fps[1])"
   ]
  },
  {
   "cell_type": "markdown",
   "id": "several-calibration",
   "metadata": {},
   "source": [
    "---\n",
    "### Going for a model with thousands of stable states\n",
    "\n",
    "Actually, Pint is faster to compute the stable states. So let's now try to load & view the Th model from 2010 (http://ginsim.org/node/79)."
   ]
  },
  {
   "cell_type": "code",
   "execution_count": 16,
   "id": "about-accuracy",
   "metadata": {},
   "outputs": [
    {
     "data": {
      "text/markdown": [
       "Downloading http://ginsim.org/sites/default/files/Th_differentiation_reduced_model.zginml"
      ],
      "text/plain": [
       "<IPython.core.display.Markdown object>"
      ]
     },
     "metadata": {},
     "output_type": "display_data"
    },
    {
     "name": "stderr",
     "output_type": "stream",
     "text": [
      "Do not forget attaching \"Th_differentiation_reduced_model.zginml\" file with your notebook\n"
     ]
    },
    {
     "data": {
      "text/html": [
       "Using local file <a href='Th_differentiation_reduced_model.zginml' target='_blank'>Th_differentiation_reduced_model.zginml</a><br>"
      ],
      "text/plain": [
       "/notebook/Th_differentiation_reduced_model.zginml"
      ]
     },
     "metadata": {},
     "output_type": "display_data"
    },
    {
     "data": {
      "text/html": [
       "<img class=\"unconfined\" width=\"100%\" src=\"data:image/svg+xml;base64,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\">"
      ],
      "text/plain": [
       "<IPython.core.display.HTML object>"
      ]
     },
     "execution_count": 16,
     "metadata": {},
     "output_type": "execute_result"
    }
   ],
   "source": [
    "# http://ginsim.org/sites/default/files/Th_differentiation_reduced_model.zginml\n",
    "lrg_Th2010 = ginsim.load(\"http://ginsim.org/sites/default/files/Th_differentiation_reduced_model.zginml\")\n",
    "ginsim.show(lrg_Th2010)"
   ]
  },
  {
   "cell_type": "markdown",
   "id": "prostate-plaintiff",
   "metadata": {},
   "source": [
    "Convert the GINsim model to bioLQM model."
   ]
  },
  {
   "cell_type": "code",
   "execution_count": 17,
   "id": "wired-disco",
   "metadata": {},
   "outputs": [],
   "source": [
    "lqm_Th2010 = ginsim.to_biolqm(lrg_Th2010)"
   ]
  },
  {
   "cell_type": "markdown",
   "id": "aggregate-pleasure",
   "metadata": {},
   "source": [
    "Convert the bioLQM model to a Pint model."
   ]
  },
  {
   "cell_type": "code",
   "execution_count": 18,
   "id": "foster-recording",
   "metadata": {},
   "outputs": [],
   "source": [
    "pint_Th2010 = biolqm.to_pint(lqm_Th2010)"
   ]
  },
  {
   "cell_type": "markdown",
   "id": "impressed-tampa",
   "metadata": {},
   "source": [
    "Compute & view the stable states using Pint."
   ]
  },
  {
   "cell_type": "code",
   "execution_count": 19,
   "id": "modern-colors",
   "metadata": {},
   "outputs": [
    {
     "data": {
      "text/html": [
       "<div>\n",
       "<style scoped>\n",
       "    .dataframe tbody tr th:only-of-type {\n",
       "        vertical-align: middle;\n",
       "    }\n",
       "\n",
       "    .dataframe tbody tr th {\n",
       "        vertical-align: top;\n",
       "    }\n",
       "\n",
       "    .dataframe thead th {\n",
       "        text-align: right;\n",
       "    }\n",
       "</style>\n",
       "<table border=\"1\" class=\"dataframe\">\n",
       "  <thead>\n",
       "    <tr style=\"text-align: right;\">\n",
       "      <th></th>\n",
       "      <th>APC</th>\n",
       "      <th>IFNB_e</th>\n",
       "      <th>IFNG_e</th>\n",
       "      <th>IL2_e</th>\n",
       "      <th>IL4_e</th>\n",
       "      <th>IL6_e</th>\n",
       "      <th>IL10_e</th>\n",
       "      <th>IL12_e</th>\n",
       "      <th>IL15_e</th>\n",
       "      <th>IL21_e</th>\n",
       "      <th>IL23_e</th>\n",
       "      <th>IL27_e</th>\n",
       "      <th>TGFB_e</th>\n",
       "      <th>IL2R</th>\n",
       "      <th>IL2RA</th>\n",
       "      <th>IFNG</th>\n",
       "      <th>IL2</th>\n",
       "      <th>IL4</th>\n",
       "      <th>IL10</th>\n",
       "      <th>IL21</th>\n",
       "      <th>IL23</th>\n",
       "      <th>TGFB</th>\n",
       "      <th>TBET</th>\n",
       "      <th>GATA3</th>\n",
       "      <th>FOXP3</th>\n",
       "      <th>NFAT</th>\n",
       "      <th>STAT1</th>\n",
       "      <th>STAT3</th>\n",
       "      <th>STAT4</th>\n",
       "      <th>STAT5</th>\n",
       "      <th>STAT6</th>\n",
       "      <th>proliferation</th>\n",
       "      <th>RORGT</th>\n",
       "      <th>IL17</th>\n",
       "    </tr>\n",
       "  </thead>\n",
       "  <tbody>\n",
       "    <tr>\n",
       "      <th>0</th>\n",
       "      <td>0</td>\n",
       "      <td>0</td>\n",
       "      <td>0</td>\n",
       "      <td>0</td>\n",
       "      <td>0</td>\n",
       "      <td>0</td>\n",
       "      <td>0</td>\n",
       "      <td>0</td>\n",
       "      <td>0</td>\n",
       "      <td>0</td>\n",
       "      <td>0</td>\n",
       "      <td>0</td>\n",
       "      <td>0</td>\n",
       "      <td>0</td>\n",
       "      <td>0</td>\n",
       "      <td>0</td>\n",
       "      <td>0</td>\n",
       "      <td>0</td>\n",
       "      <td>0</td>\n",
       "      <td>0</td>\n",
       "      <td>0</td>\n",
       "      <td>0</td>\n",
       "      <td>0</td>\n",
       "      <td>0</td>\n",
       "      <td>0</td>\n",
       "      <td>0</td>\n",
       "      <td>0</td>\n",
       "      <td>0</td>\n",
       "      <td>0</td>\n",
       "      <td>0</td>\n",
       "      <td>0</td>\n",
       "      <td>0</td>\n",
       "      <td>0</td>\n",
       "      <td>0</td>\n",
       "    </tr>\n",
       "    <tr>\n",
       "      <th>1</th>\n",
       "      <td>0</td>\n",
       "      <td>0</td>\n",
       "      <td>0</td>\n",
       "      <td>0</td>\n",
       "      <td>0</td>\n",
       "      <td>0</td>\n",
       "      <td>0</td>\n",
       "      <td>0</td>\n",
       "      <td>0</td>\n",
       "      <td>0</td>\n",
       "      <td>0</td>\n",
       "      <td>0</td>\n",
       "      <td>0</td>\n",
       "      <td>0</td>\n",
       "      <td>0</td>\n",
       "      <td>0</td>\n",
       "      <td>0</td>\n",
       "      <td>0</td>\n",
       "      <td>0</td>\n",
       "      <td>0</td>\n",
       "      <td>0</td>\n",
       "      <td>0</td>\n",
       "      <td>0</td>\n",
       "      <td>0</td>\n",
       "      <td>0</td>\n",
       "      <td>0</td>\n",
       "      <td>0</td>\n",
       "      <td>0</td>\n",
       "      <td>0</td>\n",
       "      <td>0</td>\n",
       "      <td>0</td>\n",
       "      <td>1</td>\n",
       "      <td>0</td>\n",
       "      <td>0</td>\n",
       "    </tr>\n",
       "    <tr>\n",
       "      <th>4</th>\n",
       "      <td>0</td>\n",
       "      <td>0</td>\n",
       "      <td>0</td>\n",
       "      <td>0</td>\n",
       "      <td>0</td>\n",
       "      <td>0</td>\n",
       "      <td>0</td>\n",
       "      <td>0</td>\n",
       "      <td>0</td>\n",
       "      <td>0</td>\n",
       "      <td>0</td>\n",
       "      <td>0</td>\n",
       "      <td>0</td>\n",
       "      <td>0</td>\n",
       "      <td>0</td>\n",
       "      <td>0</td>\n",
       "      <td>0</td>\n",
       "      <td>0</td>\n",
       "      <td>0</td>\n",
       "      <td>0</td>\n",
       "      <td>0</td>\n",
       "      <td>0</td>\n",
       "      <td>0</td>\n",
       "      <td>1</td>\n",
       "      <td>0</td>\n",
       "      <td>0</td>\n",
       "      <td>0</td>\n",
       "      <td>0</td>\n",
       "      <td>0</td>\n",
       "      <td>0</td>\n",
       "      <td>0</td>\n",
       "      <td>0</td>\n",
       "      <td>0</td>\n",
       "      <td>0</td>\n",
       "    </tr>\n",
       "    <tr>\n",
       "      <th>5</th>\n",
       "      <td>0</td>\n",
       "      <td>0</td>\n",
       "      <td>0</td>\n",
       "      <td>0</td>\n",
       "      <td>0</td>\n",
       "      <td>0</td>\n",
       "      <td>0</td>\n",
       "      <td>0</td>\n",
       "      <td>0</td>\n",
       "      <td>0</td>\n",
       "      <td>0</td>\n",
       "      <td>0</td>\n",
       "      <td>0</td>\n",
       "      <td>0</td>\n",
       "      <td>0</td>\n",
       "      <td>0</td>\n",
       "      <td>0</td>\n",
       "      <td>0</td>\n",
       "      <td>0</td>\n",
       "      <td>0</td>\n",
       "      <td>0</td>\n",
       "      <td>0</td>\n",
       "      <td>0</td>\n",
       "      <td>1</td>\n",
       "      <td>0</td>\n",
       "      <td>0</td>\n",
       "      <td>0</td>\n",
       "      <td>0</td>\n",
       "      <td>0</td>\n",
       "      <td>0</td>\n",
       "      <td>0</td>\n",
       "      <td>1</td>\n",
       "      <td>0</td>\n",
       "      <td>0</td>\n",
       "    </tr>\n",
       "    <tr>\n",
       "      <th>2</th>\n",
       "      <td>0</td>\n",
       "      <td>0</td>\n",
       "      <td>0</td>\n",
       "      <td>0</td>\n",
       "      <td>0</td>\n",
       "      <td>0</td>\n",
       "      <td>0</td>\n",
       "      <td>0</td>\n",
       "      <td>0</td>\n",
       "      <td>0</td>\n",
       "      <td>0</td>\n",
       "      <td>0</td>\n",
       "      <td>0</td>\n",
       "      <td>0</td>\n",
       "      <td>0</td>\n",
       "      <td>0</td>\n",
       "      <td>0</td>\n",
       "      <td>0</td>\n",
       "      <td>0</td>\n",
       "      <td>0</td>\n",
       "      <td>0</td>\n",
       "      <td>0</td>\n",
       "      <td>1</td>\n",
       "      <td>0</td>\n",
       "      <td>0</td>\n",
       "      <td>0</td>\n",
       "      <td>0</td>\n",
       "      <td>0</td>\n",
       "      <td>0</td>\n",
       "      <td>0</td>\n",
       "      <td>0</td>\n",
       "      <td>0</td>\n",
       "      <td>0</td>\n",
       "      <td>0</td>\n",
       "    </tr>\n",
       "    <tr>\n",
       "      <th>...</th>\n",
       "      <td>...</td>\n",
       "      <td>...</td>\n",
       "      <td>...</td>\n",
       "      <td>...</td>\n",
       "      <td>...</td>\n",
       "      <td>...</td>\n",
       "      <td>...</td>\n",
       "      <td>...</td>\n",
       "      <td>...</td>\n",
       "      <td>...</td>\n",
       "      <td>...</td>\n",
       "      <td>...</td>\n",
       "      <td>...</td>\n",
       "      <td>...</td>\n",
       "      <td>...</td>\n",
       "      <td>...</td>\n",
       "      <td>...</td>\n",
       "      <td>...</td>\n",
       "      <td>...</td>\n",
       "      <td>...</td>\n",
       "      <td>...</td>\n",
       "      <td>...</td>\n",
       "      <td>...</td>\n",
       "      <td>...</td>\n",
       "      <td>...</td>\n",
       "      <td>...</td>\n",
       "      <td>...</td>\n",
       "      <td>...</td>\n",
       "      <td>...</td>\n",
       "      <td>...</td>\n",
       "      <td>...</td>\n",
       "      <td>...</td>\n",
       "      <td>...</td>\n",
       "      <td>...</td>\n",
       "    </tr>\n",
       "    <tr>\n",
       "      <th>65943</th>\n",
       "      <td>1</td>\n",
       "      <td>1</td>\n",
       "      <td>1</td>\n",
       "      <td>1</td>\n",
       "      <td>1</td>\n",
       "      <td>1</td>\n",
       "      <td>1</td>\n",
       "      <td>1</td>\n",
       "      <td>1</td>\n",
       "      <td>1</td>\n",
       "      <td>1</td>\n",
       "      <td>1</td>\n",
       "      <td>0</td>\n",
       "      <td>2</td>\n",
       "      <td>1</td>\n",
       "      <td>0</td>\n",
       "      <td>0</td>\n",
       "      <td>0</td>\n",
       "      <td>1</td>\n",
       "      <td>1</td>\n",
       "      <td>1</td>\n",
       "      <td>1</td>\n",
       "      <td>1</td>\n",
       "      <td>0</td>\n",
       "      <td>1</td>\n",
       "      <td>1</td>\n",
       "      <td>1</td>\n",
       "      <td>1</td>\n",
       "      <td>0</td>\n",
       "      <td>2</td>\n",
       "      <td>1</td>\n",
       "      <td>1</td>\n",
       "      <td>1</td>\n",
       "      <td>0</td>\n",
       "    </tr>\n",
       "    <tr>\n",
       "      <th>66938</th>\n",
       "      <td>1</td>\n",
       "      <td>1</td>\n",
       "      <td>1</td>\n",
       "      <td>1</td>\n",
       "      <td>1</td>\n",
       "      <td>1</td>\n",
       "      <td>1</td>\n",
       "      <td>1</td>\n",
       "      <td>1</td>\n",
       "      <td>1</td>\n",
       "      <td>1</td>\n",
       "      <td>1</td>\n",
       "      <td>1</td>\n",
       "      <td>2</td>\n",
       "      <td>1</td>\n",
       "      <td>0</td>\n",
       "      <td>0</td>\n",
       "      <td>0</td>\n",
       "      <td>1</td>\n",
       "      <td>1</td>\n",
       "      <td>1</td>\n",
       "      <td>0</td>\n",
       "      <td>0</td>\n",
       "      <td>1</td>\n",
       "      <td>0</td>\n",
       "      <td>1</td>\n",
       "      <td>1</td>\n",
       "      <td>1</td>\n",
       "      <td>0</td>\n",
       "      <td>2</td>\n",
       "      <td>1</td>\n",
       "      <td>1</td>\n",
       "      <td>1</td>\n",
       "      <td>0</td>\n",
       "    </tr>\n",
       "    <tr>\n",
       "      <th>66934</th>\n",
       "      <td>1</td>\n",
       "      <td>1</td>\n",
       "      <td>1</td>\n",
       "      <td>1</td>\n",
       "      <td>1</td>\n",
       "      <td>1</td>\n",
       "      <td>1</td>\n",
       "      <td>1</td>\n",
       "      <td>1</td>\n",
       "      <td>1</td>\n",
       "      <td>1</td>\n",
       "      <td>1</td>\n",
       "      <td>1</td>\n",
       "      <td>2</td>\n",
       "      <td>1</td>\n",
       "      <td>0</td>\n",
       "      <td>0</td>\n",
       "      <td>0</td>\n",
       "      <td>1</td>\n",
       "      <td>1</td>\n",
       "      <td>1</td>\n",
       "      <td>0</td>\n",
       "      <td>1</td>\n",
       "      <td>0</td>\n",
       "      <td>0</td>\n",
       "      <td>1</td>\n",
       "      <td>1</td>\n",
       "      <td>1</td>\n",
       "      <td>0</td>\n",
       "      <td>2</td>\n",
       "      <td>1</td>\n",
       "      <td>1</td>\n",
       "      <td>1</td>\n",
       "      <td>0</td>\n",
       "    </tr>\n",
       "    <tr>\n",
       "      <th>66939</th>\n",
       "      <td>1</td>\n",
       "      <td>1</td>\n",
       "      <td>1</td>\n",
       "      <td>1</td>\n",
       "      <td>1</td>\n",
       "      <td>1</td>\n",
       "      <td>1</td>\n",
       "      <td>1</td>\n",
       "      <td>1</td>\n",
       "      <td>1</td>\n",
       "      <td>1</td>\n",
       "      <td>1</td>\n",
       "      <td>1</td>\n",
       "      <td>2</td>\n",
       "      <td>1</td>\n",
       "      <td>0</td>\n",
       "      <td>0</td>\n",
       "      <td>0</td>\n",
       "      <td>1</td>\n",
       "      <td>1</td>\n",
       "      <td>1</td>\n",
       "      <td>1</td>\n",
       "      <td>0</td>\n",
       "      <td>1</td>\n",
       "      <td>1</td>\n",
       "      <td>1</td>\n",
       "      <td>1</td>\n",
       "      <td>1</td>\n",
       "      <td>0</td>\n",
       "      <td>2</td>\n",
       "      <td>1</td>\n",
       "      <td>1</td>\n",
       "      <td>1</td>\n",
       "      <td>0</td>\n",
       "    </tr>\n",
       "    <tr>\n",
       "      <th>66935</th>\n",
       "      <td>1</td>\n",
       "      <td>1</td>\n",
       "      <td>1</td>\n",
       "      <td>1</td>\n",
       "      <td>1</td>\n",
       "      <td>1</td>\n",
       "      <td>1</td>\n",
       "      <td>1</td>\n",
       "      <td>1</td>\n",
       "      <td>1</td>\n",
       "      <td>1</td>\n",
       "      <td>1</td>\n",
       "      <td>1</td>\n",
       "      <td>2</td>\n",
       "      <td>1</td>\n",
       "      <td>0</td>\n",
       "      <td>0</td>\n",
       "      <td>0</td>\n",
       "      <td>1</td>\n",
       "      <td>1</td>\n",
       "      <td>1</td>\n",
       "      <td>1</td>\n",
       "      <td>1</td>\n",
       "      <td>0</td>\n",
       "      <td>1</td>\n",
       "      <td>1</td>\n",
       "      <td>1</td>\n",
       "      <td>1</td>\n",
       "      <td>0</td>\n",
       "      <td>2</td>\n",
       "      <td>1</td>\n",
       "      <td>1</td>\n",
       "      <td>1</td>\n",
       "      <td>0</td>\n",
       "    </tr>\n",
       "  </tbody>\n",
       "</table>\n",
       "<p>68092 rows × 34 columns</p>\n",
       "</div>"
      ],
      "text/plain": [
       "       APC  IFNB_e  IFNG_e  IL2_e  IL4_e  IL6_e  IL10_e  IL12_e  IL15_e  \\\n",
       "0        0       0       0      0      0      0       0       0       0   \n",
       "1        0       0       0      0      0      0       0       0       0   \n",
       "4        0       0       0      0      0      0       0       0       0   \n",
       "5        0       0       0      0      0      0       0       0       0   \n",
       "2        0       0       0      0      0      0       0       0       0   \n",
       "...    ...     ...     ...    ...    ...    ...     ...     ...     ...   \n",
       "65943    1       1       1      1      1      1       1       1       1   \n",
       "66938    1       1       1      1      1      1       1       1       1   \n",
       "66934    1       1       1      1      1      1       1       1       1   \n",
       "66939    1       1       1      1      1      1       1       1       1   \n",
       "66935    1       1       1      1      1      1       1       1       1   \n",
       "\n",
       "       IL21_e  IL23_e  IL27_e  TGFB_e  IL2R  IL2RA  IFNG  IL2  IL4  IL10  \\\n",
       "0           0       0       0       0     0      0     0    0    0     0   \n",
       "1           0       0       0       0     0      0     0    0    0     0   \n",
       "4           0       0       0       0     0      0     0    0    0     0   \n",
       "5           0       0       0       0     0      0     0    0    0     0   \n",
       "2           0       0       0       0     0      0     0    0    0     0   \n",
       "...       ...     ...     ...     ...   ...    ...   ...  ...  ...   ...   \n",
       "65943       1       1       1       0     2      1     0    0    0     1   \n",
       "66938       1       1       1       1     2      1     0    0    0     1   \n",
       "66934       1       1       1       1     2      1     0    0    0     1   \n",
       "66939       1       1       1       1     2      1     0    0    0     1   \n",
       "66935       1       1       1       1     2      1     0    0    0     1   \n",
       "\n",
       "       IL21  IL23  TGFB  TBET  GATA3  FOXP3  NFAT  STAT1  STAT3  STAT4  STAT5  \\\n",
       "0         0     0     0     0      0      0     0      0      0      0      0   \n",
       "1         0     0     0     0      0      0     0      0      0      0      0   \n",
       "4         0     0     0     0      1      0     0      0      0      0      0   \n",
       "5         0     0     0     0      1      0     0      0      0      0      0   \n",
       "2         0     0     0     1      0      0     0      0      0      0      0   \n",
       "...     ...   ...   ...   ...    ...    ...   ...    ...    ...    ...    ...   \n",
       "65943     1     1     1     1      0      1     1      1      1      0      2   \n",
       "66938     1     1     0     0      1      0     1      1      1      0      2   \n",
       "66934     1     1     0     1      0      0     1      1      1      0      2   \n",
       "66939     1     1     1     0      1      1     1      1      1      0      2   \n",
       "66935     1     1     1     1      0      1     1      1      1      0      2   \n",
       "\n",
       "       STAT6  proliferation  RORGT  IL17  \n",
       "0          0              0      0     0  \n",
       "1          0              1      0     0  \n",
       "4          0              0      0     0  \n",
       "5          0              1      0     0  \n",
       "2          0              0      0     0  \n",
       "...      ...            ...    ...   ...  \n",
       "65943      1              1      1     0  \n",
       "66938      1              1      1     0  \n",
       "66934      1              1      1     0  \n",
       "66939      1              1      1     0  \n",
       "66935      1              1      1     0  \n",
       "\n",
       "[68092 rows x 34 columns]"
      ]
     },
     "execution_count": 19,
     "metadata": {},
     "output_type": "execute_result"
    }
   ],
   "source": [
    "fps_pint_Th2010 = pypint.fixpoints(pint_Th2010)\n",
    "tabulate(fps_pint_Th2010)"
   ]
  },
  {
   "cell_type": "markdown",
   "id": "saving-choice",
   "metadata": {},
   "source": [
    "Show a Pint stable state on the LRG."
   ]
  },
  {
   "cell_type": "code",
   "execution_count": 20,
   "id": "worldwide-rochester",
   "metadata": {},
   "outputs": [
    {
     "data": {
      "text/html": [
       "<img class=\"unconfined\" width=\"100%\" src=\"data:image/svg+xml;base64,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\">"
      ],
      "text/plain": [
       "<IPython.core.display.HTML object>"
      ]
     },
     "execution_count": 20,
     "metadata": {},
     "output_type": "execute_result"
    }
   ],
   "source": [
    "ginsim.show(lrg_Th2010, fps_pint_Th2010[2000])"
   ]
  },
  {
   "cell_type": "code",
   "execution_count": null,
   "id": "dirty-connectivity",
   "metadata": {},
   "outputs": [],
   "source": []
  }
 ],
 "metadata": {
  "kernelspec": {
   "display_name": "Python 3",
   "language": "python",
   "name": "python3"
  },
  "language_info": {
   "codemirror_mode": {
    "name": "ipython",
    "version": 3
   },
   "file_extension": ".py",
   "mimetype": "text/x-python",
   "name": "python",
   "nbconvert_exporter": "python",
   "pygments_lexer": "ipython3",
   "version": "3.9.1"
  }
 },
 "nbformat": 4,
 "nbformat_minor": 5
}
